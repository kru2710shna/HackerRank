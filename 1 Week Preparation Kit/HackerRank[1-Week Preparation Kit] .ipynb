{
 "cells": [
  {
   "cell_type": "markdown",
   "id": "b7f6a677",
   "metadata": {},
   "source": [
    "# HackerRank 1 Week Preparation Kit "
   ]
  },
  {
   "cell_type": "markdown",
   "id": "ec8d3f7a",
   "metadata": {},
   "source": [
    "## Day-1 "
   ]
  },
  {
   "cell_type": "markdown",
   "id": "21914417",
   "metadata": {},
   "source": [
    "### Problem :1 Plus Minus\n",
    "\n",
    "Given an array of integers, calculate the ratios of its elements that are positive, negative, and zero. Print the decimal value of each fraction on a new line with  places after the decimal.\n",
    "Note: This challenge introduces precision problems. The test cases are scaled to six decimal places, though answers with absolute error of up to  are acceptable.\n",
    "Example  There are  elements, two positive, two negative and one zero. Their ratios are ,  and . Results are printed as:\n",
    "0.400000\n",
    "0.400000\n",
    "0.200000\n",
    "\n",
    "##### Function Description\n",
    "Complete the plusMinus function in the editor below.\n",
    "plusMinus has the following parameter(s):\n",
    "int arr[n]: an array of integers\n",
    "##### Print \n",
    "Print the ratios of positive, negative and zero values in the array. Each value should be printed on a separate line with  digits after the decimal. The function should not return a value.\n",
    "##### Input Format\n",
    "The first line contains an integer, , the size of the array. \n",
    "The second line contains  space-separated integers that describe .\n",
    "##### Output Format\n",
    "Print the following  lines, each to  decimals:\n",
    "proportion of positive values\n",
    "proportion of negative values\n",
    "proportion of zeros\n",
    "##### Sample Input\n",
    "STDIN           Function\n",
    "-----           --------\n",
    "6               arr[] size n = 6\n",
    "-4 3 -9 0 4 1   arr = [-4, 3, -9, 0, 4, 1]\n",
    "##### Sample Output\n",
    "0.500000\n",
    "0.333333\n",
    "0.166667"
   ]
  },
  {
   "cell_type": "code",
   "execution_count": 2,
   "id": "a1175669",
   "metadata": {},
   "outputs": [],
   "source": [
    "def plusMinus(arr):\n",
    "    # Write your code here\n",
    "    zero=minus=plus= 0\n",
    "    for i in range(len(arr)):\n",
    "        if arr[i] > 0 :\n",
    "            plus += 1\n",
    "        if arr[i] < 0 :\n",
    "            minus += 1\n",
    "        if arr[i] ==0 :\n",
    "            zero += 1\n",
    "        \n",
    "    print(plus/len(arr)) \n",
    "    print(minus/len(arr)) \n",
    "    print(zero/len(arr)) "
   ]
  },
  {
   "cell_type": "markdown",
   "id": "93f86734",
   "metadata": {},
   "source": [
    "### Problem :2 Mini Max Sum\n",
    "Given five positive integers, find the minimum and maximum values that can be calculated by summing exactly four of the five integers. Then print the respective minimum and maximum values as a single line of two space-separated long integers.\n",
    "##### Example \n",
    "The minimum sum is  and the maximum sum is . The function prints\n",
    "16 24\n",
    "###### Function Description\n",
    "Complete the miniMaxSum function in the editor below.\n",
    "miniMaxSum has the following parameter(s):\n",
    "arr: an array of  integers\n",
    "##### Print\n",
    "Print two space-separated integers on one line: the minimum sum and the maximum sum of  of  elements.\n",
    "##### Input Format\n",
    "A single line of five space-separated integers.\n",
    "##### Output Format\n",
    "Print two space-separated long integers denoting the respective minimum and maximum values that can be calculated by summing exactly four of the five integers. (The output can be greater than a 32 bit integer.)\n",
    "##### Sample Input\n",
    "1 2 3 4 5\n",
    "##### Sample Output\n",
    "10 14"
   ]
  },
  {
   "cell_type": "code",
   "execution_count": 3,
   "id": "ef9af995",
   "metadata": {},
   "outputs": [],
   "source": [
    "def miniMaxSum(arr):\n",
    "    # Write your code here\n",
    "    arr.sort()\n",
    "    min_value = sum(arr) - arr[0]\n",
    "    max_value = sum(arr) - arr[len(arr)-1]\n",
    "    \n",
    "    print (max_value, min_value)"
   ]
  },
  {
   "cell_type": "markdown",
   "id": "a57c09b9",
   "metadata": {},
   "source": [
    "### Problem :3 Time Conversation\n",
    "Given a time in -hour AM/PM format, convert it to military (24-hour) time.\n",
    "Note: - 12:00:00AM on a 12-hour clock is 00:00:00 on a 24-hour clock. \n",
    "- 12:00:00PM on a 12-hour clock is 12:00:00 on a 24-hour clock.\n",
    "Example\n",
    "##### Return '12:01:00'.\n",
    "##### Return '00:01:00'.\n",
    "##### Function Description\n",
    "Complete the timeConversion function in the editor below. It should return a new string representing the input time in 24 hour format.\n",
    "timeConversion has the following parameter(s):\n",
    "string s: a time in  hour format\n",
    "##### Returns\n",
    "string: the time in  hour format\n",
    "##### Input Format\n",
    "A single string  that represents a time in -hour clock format (i.e.:  or ).\n",
    "##### Sample Input\n",
    "07:05:45PM\n",
    "##### Sample Output\n",
    "19:05:45\n"
   ]
  },
  {
   "cell_type": "code",
   "execution_count": 4,
   "id": "ac460c01",
   "metadata": {},
   "outputs": [],
   "source": [
    "def timeConversion(s):\n",
    "    # Write your code here\n",
    "    time_parts = s.split(\":\")\n",
    "    hours = int(time_parts[0])\n",
    "    minutes = int(time_parts[1])\n",
    "    seconds = int(time_parts[2][:2])  # Remove \"AM\" or \"PM\"\n",
    "\n",
    "    # Check if it's PM and not noon (12 PM)\n",
    "    if \"PM\" in s and hours != 12:\n",
    "        hours += 12\n",
    "    # Check if it's AM and midnight (12 AM)\n",
    "    elif \"AM\" in s and hours == 12:\n",
    "        hours = 0\n",
    "\n",
    "    # Format the time in 24-hour format and return as a string\n",
    "    return \"{:02d}:{:02d}:{:02d}\".format(hours, minutes, seconds)"
   ]
  },
  {
   "cell_type": "markdown",
   "id": "9e0fe4ce",
   "metadata": {},
   "source": [
    "## Day-2"
   ]
  },
  {
   "cell_type": "markdown",
   "id": "5606b79e",
   "metadata": {},
   "source": [
    "### Problem :4 Lonely In Integer\n",
    "Given an array of integers, where all elements but one occur twice, find the unique element.\n",
    "Example \n",
    "The unique element is .\n",
    "##### Function Description\n",
    "Complete the lonelyinteger function in the editor below.\n",
    "lonelyinteger has the following parameter(s):\n",
    "int a[n]: an array of integers\n",
    "##### Returns\n",
    "int: the element that occurs only once\n",
    "##### Input Format\n",
    "The first line contains a single integer, , the number of integers in the array. \n",
    "The second line contains  space-separated integers that describe the values in .\n",
    "It is guaranteed that  is an odd number and that there is one unique element.\n",
    ", where ."
   ]
  },
  {
   "cell_type": "code",
   "execution_count": 7,
   "id": "2d932cc9",
   "metadata": {},
   "outputs": [],
   "source": [
    "def lonelyinteger(a):\n",
    "    # Write your code here\n",
    "    unique_set = set()\n",
    "    \n",
    "    # Loop through the array\n",
    "    for num in a:\n",
    "        # If the number is already in the set, remove it\n",
    "        if num in unique_set:\n",
    "            unique_set.remove(num)\n",
    "        else:\n",
    "            # If the number is not in the set, add it\n",
    "            unique_set.add(num)\n",
    "    \n",
    "    # The remaining element in the set is the unique element\n",
    "    return unique_set.pop()"
   ]
  },
  {
   "cell_type": "markdown",
   "id": "2bb69857",
   "metadata": {},
   "source": [
    "### Problem :5 Diagonal Difference \n",
    "Given a square matrix, calculate the absolute difference between the sums of its diagonals.\n",
    "For example, the square matrix  is shown below:\n",
    "1 2 3\n",
    "4 5 6\n",
    "9 8 9  \n",
    "The left-to-right diagonal = . The right to left diagonal = . Their absolute difference is .\n",
    "##### Function description\n",
    "Complete the  function in the editor below.\n",
    "diagonalDifference takes the following parameter:\n",
    "int arr[n][m]: an array of integers\n",
    "##### Return\n",
    "int: the absolute diagonal difference\n",
    "##### Input Format\n",
    "The first line contains a single integer, , the number of rows and columns in the square matrix . \n",
    "Each of the next  lines describes a row, , and consists of  space-separated integers .\n",
    "##### Output Format\n",
    "Return the absolute difference between the sums of the matrix's two diagonals as a single integer.\n",
    "##### Sample Input\n",
    "3\n",
    "11 2 4\n",
    "4 5 6\n",
    "10 8 -12\n",
    "##### Sample Output\n",
    "15"
   ]
  },
  {
   "cell_type": "code",
   "execution_count": 8,
   "id": "efad0cb3",
   "metadata": {},
   "outputs": [],
   "source": [
    "def diagonalDifference(arr):\n",
    "    # Write your code here\n",
    "    leftdiag = rightdiag = 0\n",
    "    for i in range(n):\n",
    "        leftdiag += arr[i][i]\n",
    "        rightdiag += arr[i][n-i-1]\n",
    "    return abs(leftdiag-rightdiag)"
   ]
  },
  {
   "cell_type": "markdown",
   "id": "da343176",
   "metadata": {},
   "source": [
    "### Problem :6 \n",
    "##### Comparison Sorting \n",
    "Quicksort usually has a running time of , but is there an algorithm that can sort even faster? In general, this is not possible. Most sorting algorithms are comparison sorts, i.e. they sort a list just by comparing the elements to one another. A comparison sort algorithm cannot beat  (worst-case) running time, since  represents the minimum number of comparisons needed to know where to place each element. For more details, you can see these notes (PDF).\n",
    "Alternative Sorting \n",
    "Another sorting method, the counting sort, does not require comparison. Instead, you create an integer array whose index range covers the entire range of values in your array to sort. Each time a value occurs in the original array, you increment the counter at that index. At the end, run through your counting array, printing the value of each non-zero valued index that number of times.\n",
    "##### Example \n",
    "\n",
    "All of the values are in the range , so create an array of zeros, . The results of each iteration follow:\n",
    "i\tarr[i]\tresult\n",
    "0\t1\t[0, 1, 0, 0]\n",
    "1\t1\t[0, 2, 0, 0]\n",
    "2\t3\t[0, 2, 0, 1]\n",
    "3\t2\t[0, 2, 1, 1]\n",
    "4\t1\t[0, 3, 1, 1]\n",
    "The frequency array is . These values can be used to create the sorted array as well: .\n",
    "Note \n",
    "For this exercise, always return a frequency array with 100 elements. The example above shows only the first 4 elements, the remainder being zeros.\n",
    "##### Challenge \n",
    "Given a list of integers, count and return the number of times each value appears as an array of integers.\n",
    "Function Description\n",
    "Complete the countingSort function in the editor below.\n",
    "countingSort has the following parameter(s):\n",
    "arr[n]: an array of integers\n",
    "##### Returns\n",
    "int[100]: a frequency array\n",
    "##### Input Format\n",
    "The first line contains an integer , the number of items in . \n",
    "Each of the next  lines contains an integer  where .\n",
    "##### Sample Input\n",
    "100\n",
    "63 25 73 1 98 73 56 84 86 57 16 83 8 25 81 56 9 53 98 67 99 12 83 89 80 91 39 86 76 85 74 39 25 90 59 10 94 32 44 3 89 30 27 79 46 96 27 32 18 21 92 69 81 40 40 34 68 78 24 87 42 69 23 41 78 22 6 90 99 89 50 30 20 1 43 3 70 95 33 46 44 9 69 48 33 60 65 16 82 67 61 32 21 79 75 75 13 87 70 33  \n",
    "##### Sample Output\n",
    "0 2 0 2 0 0 1 0 1 2 1 0 1 1 0 0 2 0 1 0 1 2 1 1 1 3 0 2 0 0 2 0 3 3 1 0 0 0 0 2 2 1 1 1 2 0 2 0 1 0 1 0 0 1 0 0 2 1 0 1 1 1 0 1 0 1 0 2 1 3 2 0 0 2 1 2 1 0 2 2 1 2 1 2 1 1 2 2 0 3 2 1 1 0 1 1 1 0 2 2 "
   ]
  },
  {
   "cell_type": "code",
   "execution_count": 9,
   "id": "2bf7d7e8",
   "metadata": {},
   "outputs": [],
   "source": [
    "def countingSort(arr):\n",
    "    # Write your code here\n",
    "    frequency = [0] * 100\n",
    "    \n",
    "    # Count the occurrences of each value in the input array\n",
    "    for num in arr:\n",
    "        frequency[num] += 1\n",
    "    \n",
    "    return frequency"
   ]
  },
  {
   "cell_type": "markdown",
   "id": "3db3a07d",
   "metadata": {},
   "source": [
    "## Day- 3\n",
    "##### In this challenge, the task is to debug the existing code to successfully execute all provided test files.\n",
    "Given an array of  distinct integers, transform the array into a zig zag sequence by permuting the array elements. A sequence will be called a zig zag sequence if the first  elements in the sequence are in increasing order and the last  elements are in decreasing order, where . You need to find the lexicographically smallest zig zag sequence of the given array.\n",
    "##### Example.\n",
    "Now if we permute the array as , the result is a zig zag sequence.\n",
    "##### Debug the given function findZigZagSequence to return the appropriate zig zag sequence for the given input array.\n",
    "Note: You can modify at most three lines in the given code. You cannot add or remove lines of code.\n",
    "To restore the original code, click on the icon to the right of the language selector.\n",
    "##### Input Format\n",
    "The first line contains  the number of test cases. The first line of each test case contains an integer , denoting the number of array elements. The next line of the test case contains  elements of array .\n",
    "##### Constraints\n",
    " \n",
    " ( is always odd) \n",
    "\n",
    "##### Output Format\n",
    "For each test cases, print the elements of the transformed zig zag sequence in a single line."
   ]
  },
  {
   "cell_type": "code",
   "execution_count": null,
   "id": "05e6511a",
   "metadata": {},
   "outputs": [],
   "source": []
  }
 ],
 "metadata": {
  "kernelspec": {
   "display_name": "Python 3 (ipykernel)",
   "language": "python",
   "name": "python3"
  },
  "language_info": {
   "codemirror_mode": {
    "name": "ipython",
    "version": 3
   },
   "file_extension": ".py",
   "mimetype": "text/x-python",
   "name": "python",
   "nbconvert_exporter": "python",
   "pygments_lexer": "ipython3",
   "version": "3.10.9"
  }
 },
 "nbformat": 4,
 "nbformat_minor": 5
}
